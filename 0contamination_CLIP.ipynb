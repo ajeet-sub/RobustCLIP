{
 "cells": [
  {
   "cell_type": "code",
   "execution_count": 1,
   "id": "6969cbf3",
   "metadata": {},
   "outputs": [
    {
     "name": "stderr",
     "output_type": "stream",
     "text": [
      "/scratch/1006532/ipykernel_2805445/3931390099.py:2: DeprecationWarning: \n",
      "Pyarrow will become a required dependency of pandas in the next major release of pandas (pandas 3.0),\n",
      "(to allow more performant data types, such as the Arrow string type, and better interoperability with other libraries)\n",
      "but was not found to be installed on your system.\n",
      "If this would cause problems for you,\n",
      "please provide us feedback at https://github.com/pandas-dev/pandas/issues/54466\n",
      "        \n",
      "  import pandas as pd\n"
     ]
    }
   ],
   "source": [
    "import numpy as np\n",
    "import pandas as pd\n",
    "import torch\n",
    "import os\n",
    "from torch.utils.data import Dataset, DataLoader\n",
    "from torch.utils.data.sampler import Sampler\n",
    "import clip\n",
    "from PIL import Image\n",
    "from pathlib import Path\n",
    "from tqdm.auto import tqdm\n",
    "import re\n",
    "from clip.simple_tokenizer import SimpleTokenizer\n",
    "import faiss\n",
    "import matplotlib.pyplot as plt\n",
    "#from triplet_loss import TripletLoss\n",
    "\n",
    "%matplotlib inline\n"
   ]
  },
  {
   "cell_type": "code",
   "execution_count": 2,
   "id": "10a35178",
   "metadata": {},
   "outputs": [],
   "source": [
    "#config\n",
    "n_epochs = 20\n",
    "testsize=0.1\n",
    "# Step 1: Define a tensor and apply transformations first\n",
    "temp = torch.tensor(0.07)\n",
    "\n",
    "batch_size=128\n",
    "model_save_dr=\"/home/hice1/mmoradi6/scratch/RCLIP/models/\"\n",
    "prob=0 #contamination level"
   ]
  },
  {
   "cell_type": "code",
   "execution_count": 3,
   "id": "ca3bc197",
   "metadata": {},
   "outputs": [],
   "source": [
    "#label csv\n",
    "from sklearn.model_selection import train_test_split\n",
    "df_data = pd.read_csv('/home/hice1/mmoradi6/scratch/RCLIP/data/train.csv', index_col='id')\n",
    "df_labels=pd.read_csv('/home/hice1/mmoradi6/scratch/RCLIP/data/labels.csv',index_col=\"attribute_id\")\n",
    "image_dir=\"/home/hice1/mmoradi6/scratch/RCLIP/data/training_data/\"\n",
    "image_names=sorted(os.listdir(image_dir))[:1000]\n",
    "train_names, test_names, _, _ = train_test_split(image_names, image_names, test_size=testsize, random_state=42)"
   ]
  },
  {
   "cell_type": "code",
   "execution_count": 4,
   "id": "43349b2d",
   "metadata": {},
   "outputs": [],
   "source": [
    "_tokenizer = SimpleTokenizer()\n",
    "\n",
    "# Copied from https://github.com/openai/CLIP/blob/beba48f35392a73c6c47ae67ddffced81ad1916d/clip/clip.py#L164\n",
    "# but with relaxed exception\n",
    "def tokenize(texts, context_length: int = 77) -> torch.LongTensor:\n",
    "    if isinstance(texts, str):\n",
    "        texts = [texts]\n",
    "\n",
    "    sot_token = _tokenizer.encoder[\"<|startoftext|>\"]\n",
    "    eot_token = _tokenizer.encoder[\"<|endoftext|>\"]\n",
    "    all_tokens = [[sot_token] + _tokenizer.encode(text) + [eot_token] for text in texts]\n",
    "    result = torch.zeros(len(all_tokens), context_length, dtype=torch.long)\n",
    "\n",
    "    for i, tokens in enumerate(all_tokens):\n",
    "        n = min(len(tokens), context_length)\n",
    "        result[i, :n] = torch.tensor(tokens)[:n]\n",
    "        if len(tokens) > context_length:\n",
    "            result[i, -1] = tokens[-1]\n",
    "\n",
    "    return result\n",
    "\n",
    "class MyDataset(Dataset):\n",
    "    def __init__(self, df_data, train_names,df_labels):\n",
    "        super().__init__()\n",
    "        self.df_data = df_data\n",
    "        self.train_names = train_names\n",
    "        self.df_labels=df_labels\n",
    "        \n",
    "    def __len__(self):\n",
    "        return len(self.train_names)\n",
    "    \n",
    "    def __getitem__(self, idx):\n",
    "        image_name=self.train_names[idx]\n",
    "        image_path=image_dir+image_name\n",
    "        text_ids_string=df_data.loc[image_name[:-4]].iloc[0] #ids of text input as string e.g. '123 143'\n",
    "        #corruption with probability prob\n",
    "        random_number=torch.rand(1)\n",
    "        if random_number<prob:\n",
    "            name_random=random.choice(self.train_names)\n",
    "            text_ids_string=df_data.loc[name_random[:-4]].iloc[0] #randomly choose the labels from another image\n",
    "        text_ids_string_list=text_ids_string.split(\" \")\n",
    "        text_list=[df_labels.loc[int(ii)].iloc[0].split(\"::\")[1] for ii in text_ids_string_list]\n",
    "\n",
    "        image = preprocess(Image.open(image_path)) \n",
    "        text_all = ', '.join(text_list)\n",
    "        text=tokenize([text_all])[0]\n",
    "        return image, text\n",
    "    \n",
    "    \n",
    "class RollingMean():\n",
    "    def __init__(self):\n",
    "        self.n = 0\n",
    "        self.mean = 0\n",
    "        \n",
    "    def update(self, value):\n",
    "        self.mean = (self.mean * self.n + value) / (self.n+1)\n",
    "        self.n += 1\n",
    "        \n",
    "    def result(self):\n",
    "        return self.mean"
   ]
  },
  {
   "cell_type": "code",
   "execution_count": 5,
   "id": "b9cf4fc1",
   "metadata": {},
   "outputs": [
    {
     "data": {
      "text/plain": [
       "512"
      ]
     },
     "execution_count": 5,
     "metadata": {},
     "output_type": "execute_result"
    }
   ],
   "source": [
    "# Load CLIP\n",
    "device = \"cuda\" if torch.cuda.is_available() else \"cpu\"\n",
    "model, preprocess = clip.load(\"ViT-B/32\", device=device, jit=False)\n",
    "\n",
    "# Get embedding size\n",
    "embed_dim = model.text_projection.shape[1]\n",
    "embed_dim"
   ]
  },
  {
   "cell_type": "code",
   "execution_count": 6,
   "id": "e796b752",
   "metadata": {},
   "outputs": [],
   "source": [
    "# Load train data\n",
    "dstrain = MyDataset(df_data, train_names,df_labels)\n",
    "dltrain = DataLoader(dstrain, batch_size=batch_size, num_workers=1)\n",
    "#test data\n",
    "dstest=MyDataset(df_data, test_names,df_labels)\n",
    "dltest = DataLoader(dstest, batch_size=batch_size, num_workers=1)\n",
    "# params = list(model.parameters()) + list(temp) #parameters\n",
    "#optim=(params, lr=0.001, betas=(0.9, 0.999), eps=1e-08, weight_decay=0)\n",
    "#optim = torch.optim.AdamW(model.parameters(), lr=1e-4, eps=1e-8, weight_decay=1e-2)\n",
    "optim = torch.optim.SGD(model.parameters(), lr=1e-2, momentum=0.2)\n",
    "scheduler = torch.optim.lr_scheduler.OneCycleLR(optim, 1e-2, total_steps=n_epochs * (2*len(dltrain)-1),\n",
    "                                               base_momentum=0.0, max_momentum=0.5, pct_start=0.1, div_factor=1e2, final_div_factor=1e4)\n",
    "# criterion = TripletLoss(device)\n",
    "criterion=torch.nn.CrossEntropyLoss()\n"
   ]
  },
  {
   "cell_type": "code",
   "execution_count": 7,
   "id": "88c4248f",
   "metadata": {},
   "outputs": [
    {
     "data": {
      "application/vnd.jupyter.widget-view+json": {
       "model_id": "239fb5210a394f3badb34a4714d603e5",
       "version_major": 2,
       "version_minor": 0
      },
      "text/plain": [
       "  0%|          | 0/15 [00:00<?, ?it/s]"
      ]
     },
     "metadata": {},
     "output_type": "display_data"
    },
    {
     "name": "stderr",
     "output_type": "stream",
     "text": [
      "/scratch/1006532/ipykernel_2805445/1789945552.py:19: UserWarning: To copy construct from a tensor, it is recommended to use sourceTensor.clone().detach() or sourceTensor.clone().detach().requires_grad_(True), rather than torch.tensor(sourceTensor).\n",
      "  logits_i = I_e@ T_e.T * torch.exp(torch.tensor(temp))\n",
      "/scratch/1006532/ipykernel_2805445/1789945552.py:20: UserWarning: To copy construct from a tensor, it is recommended to use sourceTensor.clone().detach() or sourceTensor.clone().detach().requires_grad_(True), rather than torch.tensor(sourceTensor).\n",
      "  logits_t = T_e@ I_e.T * torch.exp(torch.tensor(temp))\n"
     ]
    },
    {
     "data": {
      "application/vnd.jupyter.widget-view+json": {
       "model_id": "17b20af4d21444fab3d9291da555419f",
       "version_major": 2,
       "version_minor": 0
      },
      "text/plain": [
       "  0%|          | 0/1 [00:00<?, ?it/s]"
      ]
     },
     "metadata": {},
     "output_type": "display_data"
    },
    {
     "name": "stderr",
     "output_type": "stream",
     "text": [
      "/scratch/1006532/ipykernel_2805445/1789945552.py:50: UserWarning: To copy construct from a tensor, it is recommended to use sourceTensor.clone().detach() or sourceTensor.clone().detach().requires_grad_(True), rather than torch.tensor(sourceTensor).\n",
      "  logits_i = I_e@ T_e.T * torch.exp(torch.tensor(temp))\n",
      "/scratch/1006532/ipykernel_2805445/1789945552.py:51: UserWarning: To copy construct from a tensor, it is recommended to use sourceTensor.clone().detach() or sourceTensor.clone().detach().requires_grad_(True), rather than torch.tensor(sourceTensor).\n",
      "  logits_t = T_e@ I_e.T * torch.exp(torch.tensor(temp))\n"
     ]
    },
    {
     "data": {
      "application/vnd.jupyter.widget-view+json": {
       "model_id": "42a09f5c6d364fe8835ca2debb5731fd",
       "version_major": 2,
       "version_minor": 0
      },
      "text/plain": [
       "  0%|          | 0/15 [00:00<?, ?it/s]"
      ]
     },
     "metadata": {},
     "output_type": "display_data"
    },
    {
     "data": {
      "application/vnd.jupyter.widget-view+json": {
       "model_id": "46d0604da49e43fab93342a6f0bd5379",
       "version_major": 2,
       "version_minor": 0
      },
      "text/plain": [
       "  0%|          | 0/1 [00:00<?, ?it/s]"
      ]
     },
     "metadata": {},
     "output_type": "display_data"
    },
    {
     "data": {
      "application/vnd.jupyter.widget-view+json": {
       "model_id": "9e5e6e8e6d6f4ccd98039b2de70043ab",
       "version_major": 2,
       "version_minor": 0
      },
      "text/plain": [
       "  0%|          | 0/15 [00:00<?, ?it/s]"
      ]
     },
     "metadata": {},
     "output_type": "display_data"
    },
    {
     "data": {
      "application/vnd.jupyter.widget-view+json": {
       "model_id": "37def5612bbb4a4fa2dc9dd5372b844d",
       "version_major": 2,
       "version_minor": 0
      },
      "text/plain": [
       "  0%|          | 0/1 [00:00<?, ?it/s]"
      ]
     },
     "metadata": {},
     "output_type": "display_data"
    },
    {
     "data": {
      "application/vnd.jupyter.widget-view+json": {
       "model_id": "331e322366614c33a3b8cd0a2bd350ca",
       "version_major": 2,
       "version_minor": 0
      },
      "text/plain": [
       "  0%|          | 0/15 [00:00<?, ?it/s]"
      ]
     },
     "metadata": {},
     "output_type": "display_data"
    },
    {
     "data": {
      "application/vnd.jupyter.widget-view+json": {
       "model_id": "54f844ef4d7d4404bb00118a1f0855d7",
       "version_major": 2,
       "version_minor": 0
      },
      "text/plain": [
       "  0%|          | 0/1 [00:00<?, ?it/s]"
      ]
     },
     "metadata": {},
     "output_type": "display_data"
    },
    {
     "data": {
      "application/vnd.jupyter.widget-view+json": {
       "model_id": "5543a033dd4f4de2bf92e2c8a74c5e82",
       "version_major": 2,
       "version_minor": 0
      },
      "text/plain": [
       "  0%|          | 0/15 [00:00<?, ?it/s]"
      ]
     },
     "metadata": {},
     "output_type": "display_data"
    },
    {
     "data": {
      "application/vnd.jupyter.widget-view+json": {
       "model_id": "ec62d53bb37d48fcb975272db63adf40",
       "version_major": 2,
       "version_minor": 0
      },
      "text/plain": [
       "  0%|          | 0/1 [00:00<?, ?it/s]"
      ]
     },
     "metadata": {},
     "output_type": "display_data"
    },
    {
     "data": {
      "application/vnd.jupyter.widget-view+json": {
       "model_id": "8c9db76792dc443caa3347167ba62dc8",
       "version_major": 2,
       "version_minor": 0
      },
      "text/plain": [
       "  0%|          | 0/15 [00:00<?, ?it/s]"
      ]
     },
     "metadata": {},
     "output_type": "display_data"
    },
    {
     "data": {
      "application/vnd.jupyter.widget-view+json": {
       "model_id": "8961b648b47d414b8c624033e6d132cf",
       "version_major": 2,
       "version_minor": 0
      },
      "text/plain": [
       "  0%|          | 0/1 [00:00<?, ?it/s]"
      ]
     },
     "metadata": {},
     "output_type": "display_data"
    },
    {
     "data": {
      "application/vnd.jupyter.widget-view+json": {
       "model_id": "6a23f2e411484a2d84a9f5788b12e544",
       "version_major": 2,
       "version_minor": 0
      },
      "text/plain": [
       "  0%|          | 0/15 [00:00<?, ?it/s]"
      ]
     },
     "metadata": {},
     "output_type": "display_data"
    },
    {
     "data": {
      "application/vnd.jupyter.widget-view+json": {
       "model_id": "bf8bc8256b404b22856a5634b5acb793",
       "version_major": 2,
       "version_minor": 0
      },
      "text/plain": [
       "  0%|          | 0/1 [00:00<?, ?it/s]"
      ]
     },
     "metadata": {},
     "output_type": "display_data"
    },
    {
     "data": {
      "application/vnd.jupyter.widget-view+json": {
       "model_id": "af08462c3331438a963b26363a2c8021",
       "version_major": 2,
       "version_minor": 0
      },
      "text/plain": [
       "  0%|          | 0/15 [00:00<?, ?it/s]"
      ]
     },
     "metadata": {},
     "output_type": "display_data"
    },
    {
     "data": {
      "application/vnd.jupyter.widget-view+json": {
       "model_id": "a3c74c41b022427c9ab3dcd688c2a7a1",
       "version_major": 2,
       "version_minor": 0
      },
      "text/plain": [
       "  0%|          | 0/1 [00:00<?, ?it/s]"
      ]
     },
     "metadata": {},
     "output_type": "display_data"
    },
    {
     "data": {
      "application/vnd.jupyter.widget-view+json": {
       "model_id": "835a6a3845b948bfa5d7733fe7985de6",
       "version_major": 2,
       "version_minor": 0
      },
      "text/plain": [
       "  0%|          | 0/15 [00:00<?, ?it/s]"
      ]
     },
     "metadata": {},
     "output_type": "display_data"
    },
    {
     "data": {
      "application/vnd.jupyter.widget-view+json": {
       "model_id": "dec5288dbf5c4483a2f3c62a69fe0ddd",
       "version_major": 2,
       "version_minor": 0
      },
      "text/plain": [
       "  0%|          | 0/1 [00:00<?, ?it/s]"
      ]
     },
     "metadata": {},
     "output_type": "display_data"
    },
    {
     "data": {
      "application/vnd.jupyter.widget-view+json": {
       "model_id": "9d8a26b5b9ca4f2da80420cc88fcdf0d",
       "version_major": 2,
       "version_minor": 0
      },
      "text/plain": [
       "  0%|          | 0/15 [00:00<?, ?it/s]"
      ]
     },
     "metadata": {},
     "output_type": "display_data"
    },
    {
     "data": {
      "application/vnd.jupyter.widget-view+json": {
       "model_id": "bf7eea7ef19546e8b2984b6622341322",
       "version_major": 2,
       "version_minor": 0
      },
      "text/plain": [
       "  0%|          | 0/1 [00:00<?, ?it/s]"
      ]
     },
     "metadata": {},
     "output_type": "display_data"
    },
    {
     "data": {
      "application/vnd.jupyter.widget-view+json": {
       "model_id": "a324d597cad94dedafae21035b7ca9c4",
       "version_major": 2,
       "version_minor": 0
      },
      "text/plain": [
       "  0%|          | 0/15 [00:00<?, ?it/s]"
      ]
     },
     "metadata": {},
     "output_type": "display_data"
    },
    {
     "data": {
      "application/vnd.jupyter.widget-view+json": {
       "model_id": "77bc7c10ead44bd0a76a2abf1eb6cb5b",
       "version_major": 2,
       "version_minor": 0
      },
      "text/plain": [
       "  0%|          | 0/1 [00:00<?, ?it/s]"
      ]
     },
     "metadata": {},
     "output_type": "display_data"
    },
    {
     "data": {
      "application/vnd.jupyter.widget-view+json": {
       "model_id": "c4c88a41686545dfbb95c3ac779f1510",
       "version_major": 2,
       "version_minor": 0
      },
      "text/plain": [
       "  0%|          | 0/15 [00:00<?, ?it/s]"
      ]
     },
     "metadata": {},
     "output_type": "display_data"
    },
    {
     "data": {
      "application/vnd.jupyter.widget-view+json": {
       "model_id": "94036c60a2ef4d149889c5d9e3451bc4",
       "version_major": 2,
       "version_minor": 0
      },
      "text/plain": [
       "  0%|          | 0/1 [00:00<?, ?it/s]"
      ]
     },
     "metadata": {},
     "output_type": "display_data"
    },
    {
     "data": {
      "application/vnd.jupyter.widget-view+json": {
       "model_id": "333115da53fc4394bb2b1da1caf93fae",
       "version_major": 2,
       "version_minor": 0
      },
      "text/plain": [
       "  0%|          | 0/15 [00:00<?, ?it/s]"
      ]
     },
     "metadata": {},
     "output_type": "display_data"
    },
    {
     "data": {
      "application/vnd.jupyter.widget-view+json": {
       "model_id": "491e2090e1f645c2bba78003c21c2c21",
       "version_major": 2,
       "version_minor": 0
      },
      "text/plain": [
       "  0%|          | 0/1 [00:00<?, ?it/s]"
      ]
     },
     "metadata": {},
     "output_type": "display_data"
    },
    {
     "data": {
      "application/vnd.jupyter.widget-view+json": {
       "model_id": "147cc732e34f4ce7bee5a9efba6c4f12",
       "version_major": 2,
       "version_minor": 0
      },
      "text/plain": [
       "  0%|          | 0/15 [00:00<?, ?it/s]"
      ]
     },
     "metadata": {},
     "output_type": "display_data"
    },
    {
     "data": {
      "application/vnd.jupyter.widget-view+json": {
       "model_id": "dbb6c3007ff847e788257bd3dc010826",
       "version_major": 2,
       "version_minor": 0
      },
      "text/plain": [
       "  0%|          | 0/1 [00:00<?, ?it/s]"
      ]
     },
     "metadata": {},
     "output_type": "display_data"
    },
    {
     "data": {
      "application/vnd.jupyter.widget-view+json": {
       "model_id": "c9a2c8ecf9ea4b4591860787cec39a0d",
       "version_major": 2,
       "version_minor": 0
      },
      "text/plain": [
       "  0%|          | 0/15 [00:00<?, ?it/s]"
      ]
     },
     "metadata": {},
     "output_type": "display_data"
    },
    {
     "data": {
      "application/vnd.jupyter.widget-view+json": {
       "model_id": "47bd0285bfe944148cbe1505499e2ad5",
       "version_major": 2,
       "version_minor": 0
      },
      "text/plain": [
       "  0%|          | 0/1 [00:00<?, ?it/s]"
      ]
     },
     "metadata": {},
     "output_type": "display_data"
    },
    {
     "data": {
      "application/vnd.jupyter.widget-view+json": {
       "model_id": "88b1dc8466424eb4abd33036e8642d82",
       "version_major": 2,
       "version_minor": 0
      },
      "text/plain": [
       "  0%|          | 0/15 [00:00<?, ?it/s]"
      ]
     },
     "metadata": {},
     "output_type": "display_data"
    },
    {
     "data": {
      "application/vnd.jupyter.widget-view+json": {
       "model_id": "92c4133772fe4357b98697bdac3d004b",
       "version_major": 2,
       "version_minor": 0
      },
      "text/plain": [
       "  0%|          | 0/1 [00:00<?, ?it/s]"
      ]
     },
     "metadata": {},
     "output_type": "display_data"
    },
    {
     "data": {
      "application/vnd.jupyter.widget-view+json": {
       "model_id": "b4c56c278a2e4a9b95ce5c85391bb83e",
       "version_major": 2,
       "version_minor": 0
      },
      "text/plain": [
       "  0%|          | 0/15 [00:00<?, ?it/s]"
      ]
     },
     "metadata": {},
     "output_type": "display_data"
    },
    {
     "data": {
      "application/vnd.jupyter.widget-view+json": {
       "model_id": "5704a9d7e4414130821e91d91ab7ba70",
       "version_major": 2,
       "version_minor": 0
      },
      "text/plain": [
       "  0%|          | 0/1 [00:00<?, ?it/s]"
      ]
     },
     "metadata": {},
     "output_type": "display_data"
    },
    {
     "data": {
      "application/vnd.jupyter.widget-view+json": {
       "model_id": "d53e44d75e314e6a8dc678689a1c4d64",
       "version_major": 2,
       "version_minor": 0
      },
      "text/plain": [
       "  0%|          | 0/15 [00:00<?, ?it/s]"
      ]
     },
     "metadata": {},
     "output_type": "display_data"
    },
    {
     "data": {
      "application/vnd.jupyter.widget-view+json": {
       "model_id": "4f5040da4ad64315a60ff1f64cef6ebd",
       "version_major": 2,
       "version_minor": 0
      },
      "text/plain": [
       "  0%|          | 0/1 [00:00<?, ?it/s]"
      ]
     },
     "metadata": {},
     "output_type": "display_data"
    },
    {
     "data": {
      "application/vnd.jupyter.widget-view+json": {
       "model_id": "94f1c7bde1934ff4afae58a17c2f5710",
       "version_major": 2,
       "version_minor": 0
      },
      "text/plain": [
       "  0%|          | 0/15 [00:00<?, ?it/s]"
      ]
     },
     "metadata": {},
     "output_type": "display_data"
    },
    {
     "data": {
      "application/vnd.jupyter.widget-view+json": {
       "model_id": "4caadc5b0fa84ef4af2248d80af4dc42",
       "version_major": 2,
       "version_minor": 0
      },
      "text/plain": [
       "  0%|          | 0/1 [00:00<?, ?it/s]"
      ]
     },
     "metadata": {},
     "output_type": "display_data"
    },
    {
     "data": {
      "application/vnd.jupyter.widget-view+json": {
       "model_id": "ac7e84bf2a9c4fdaae965d52560439f9",
       "version_major": 2,
       "version_minor": 0
      },
      "text/plain": [
       "  0%|          | 0/15 [00:00<?, ?it/s]"
      ]
     },
     "metadata": {},
     "output_type": "display_data"
    },
    {
     "data": {
      "application/vnd.jupyter.widget-view+json": {
       "model_id": "79984cc745be4be196828dd69aaabeb9",
       "version_major": 2,
       "version_minor": 0
      },
      "text/plain": [
       "  0%|          | 0/1 [00:00<?, ?it/s]"
      ]
     },
     "metadata": {},
     "output_type": "display_data"
    }
   ],
   "source": [
    "import numpy as np\n",
    "loss_test=[]\n",
    "for epoch in range(n_epochs):\n",
    "    if epoch%5==0 & epoch>0:\n",
    "        torch.save(model.state_dict(), model_save_dr+str(100*prob)+str(epoch)+\".pth\")\n",
    "    loss_test_aux=[]\n",
    "    with tqdm(total=2*len(dltrain)-1) as bar:\n",
    "        loss_mean = RollingMean()\n",
    "        for images, texts in dltrain:\n",
    "            # Generate train and text features\n",
    "            I_e = model.encode_image(images.to(device)) #multimodal features\n",
    "            T_e = model.encode_text(texts.to(device))\n",
    "            T_e = T_e / T_e.norm(2, dim=1, keepdim=True) #normalize\n",
    "            I_e = I_e / I_e.norm(2, dim=1, keepdim=True) #normalize\n",
    "            \n",
    "            \n",
    "            optim.zero_grad()\n",
    "            #calculate logits, this loss function is based on the original paper\n",
    "            logits_i = I_e@ T_e.T * torch.exp(torch.tensor(temp))\n",
    "            logits_t = T_e@ I_e.T * torch.exp(torch.tensor(temp))\n",
    "            labels = torch.arange(images.size(0)).to(device)\n",
    "            loss_i = criterion(logits_i, labels)\n",
    "            loss_t = criterion(logits_t, labels)\n",
    "            loss = (loss_i + loss_t)/2\n",
    "            # Join train and test features\n",
    "            #features = torch.hstack([images_features, texts_features])\n",
    "            \n",
    "            # L2-normalize features\n",
    "            #features = features / features.norm(2, dim=1, keepdim=True)\n",
    "\n",
    "            # Apply Triplet SemiHardLoss\n",
    "            #loss = criterion(features, targets)\n",
    "\n",
    "            loss.backward()\n",
    "            optim.step()\n",
    "            scheduler.step()\n",
    "\n",
    "            # Update metric and progress bar\n",
    "            loss_mean.update(loss.item())\n",
    "            bar.update()\n",
    "            bar.set_description('{:.4f}'.format(loss_mean.result()))\n",
    "    #Update loss test for test data\n",
    "    with tqdm(total=2*len(dltest)-1) as bar:\n",
    "        for images, texts in dltest:\n",
    "            I_e = model.encode_image(images.to(device)) #multimodal features\n",
    "            T_e = model.encode_text(texts.to(device))\n",
    "            T_e = T_e / T_e.norm(2, dim=1, keepdim=True) #normalize\n",
    "            I_e = I_e / I_e.norm(2, dim=1, keepdim=True) #normalize\n",
    "            #calculate logits, this loss function is based on the original paper\n",
    "            logits_i = I_e@ T_e.T * torch.exp(torch.tensor(temp))\n",
    "            logits_t = T_e@ I_e.T * torch.exp(torch.tensor(temp))\n",
    "            labels = torch.arange(images.size(0)).to(device)\n",
    "            loss_i = criterion(logits_i, labels)\n",
    "            loss_t = criterion(logits_t, labels)\n",
    "            loss_test_aux.append(((loss_i + loss_t)/2).item())\n",
    "    #print(loss_test_aux)\n",
    "    loss_test.append(np.mean(loss_test_aux))"
   ]
  },
  {
   "cell_type": "code",
   "execution_count": 8,
   "id": "07bafe10",
   "metadata": {},
   "outputs": [
    {
     "data": {
      "image/png": "[encoded data removed]",
      "text/plain": [
       "<Figure size 640x480 with 1 Axes>"
      ]
     },
     "metadata": {},
     "output_type": "display_data"
    }
   ],
   "source": [
    "#plot test progress\n",
    "# Convert tensors to Python numbers\n",
    "# losses_test_plot = [loss.item() for loss in loss_test]\n",
    "\n",
    "# Plot as usual\n",
    "x_axis=[iii for iii in range(1,n_epochs+1,1)]\n",
    "plt.plot(loss_test, label='Loss')\n",
    "plt.xlabel('Epoch')\n",
    "plt.ylabel('Test loss')\n",
    "plt.title('Test loss progress over epochs')\n",
    "plt.show()"
   ]
  },
  {
   "cell_type": "code",
   "execution_count": null,
   "id": "b2926570",
   "metadata": {},
   "outputs": [],
   "source": [
    "#save the model\n",
    "# Assuming `model` is an instance of the CLIP class\n",
    "torch.save(model.state_dict(), model_save_dr+str(100*prob)+\".pth\")"
   ]
  },
  {
   "cell_type": "code",
   "execution_count": null,
   "id": "bac8213c",
   "metadata": {},
   "outputs": [],
   "source": []
  }
 ],
 "metadata": {
  "kernelspec": {
   "display_name": "Python 3 (ipykernel)",
   "language": "python",
   "name": "python3"
  },
  "language_info": {
   "codemirror_mode": {
    "name": "ipython",
    "version": 3
   },
   "file_extension": ".py",
   "mimetype": "text/x-python",
   "name": "python",
   "nbconvert_exporter": "python",
   "pygments_lexer": "ipython3",
   "version": "3.10.13"
  }
 },
 "nbformat": 4,
 "nbformat_minor": 5
}
