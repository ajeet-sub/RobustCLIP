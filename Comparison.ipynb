{
 "cells": [
  {
   "cell_type": "code",
   "execution_count": 2,
   "id": "88156619",
   "metadata": {},
   "outputs": [
    {
     "name": "stderr",
     "output_type": "stream",
     "text": [
      "/scratch/1006532/ipykernel_1571117/2002219669.py:65: FutureWarning: You are using `torch.load` with `weights_only=False` (the current default value), which uses the default pickle module implicitly. It is possible to construct malicious pickle data which will execute arbitrary code during unpickling (See https://github.com/pytorch/pytorch/blob/main/SECURITY.md#untrusted-models for more details). In a future release, the default value for `weights_only` will be flipped to `True`. This limits the functions that could be executed during unpickling. Arbitrary objects will no longer be allowed to be loaded via this mode unless they are explicitly allowlisted by the user via `torch.serialization.add_safe_globals`. We recommend you start setting `weights_only=True` for any use case where you don't have full control of the loaded file. Please open an issue on GitHub for any issues related to this experimental feature.\n",
      "  state_dict=torch.load(state_path, map_location=device)\n"
     ]
    },
    {
     "name": "stdout",
     "output_type": "stream",
     "text": [
      "for model 0.pth\n",
      "TP: 0.193\n",
      "TN: 1026.048\n",
      "FP: 73.807\n",
      "FN: 2.952\n",
      "for model 25.0.pth\n",
      "TP: 0.163\n",
      "TN: 1031.018\n",
      "FP: 68.837\n",
      "FN: 2.982\n",
      "for model 25.0robust.pth\n",
      "TP: 1.665\n",
      "TN: 778.52\n",
      "FP: 321.335\n",
      "FN: 1.48\n",
      "for model 50.0.pth\n",
      "TP: 0.138\n",
      "TN: 1050.993\n",
      "FP: 48.862\n",
      "FN: 3.007\n",
      "for model 50.0robust.pth\n",
      "TP: 2.228\n",
      "TN: 633.083\n",
      "FP: 466.772\n",
      "FN: 0.917\n",
      "for model 75.0.pth\n",
      "TP: 0.09\n",
      "TN: 1087.945\n",
      "FP: 11.91\n",
      "FN: 3.055\n",
      "for model 75.0robust.pth\n",
      "TP: 3.145\n",
      "TN: 0.0\n",
      "FP: 1099.855\n",
      "FN: 0.0\n"
     ]
    }
   ],
   "source": [
    "import numpy as np\n",
    "import pandas as pd\n",
    "import torch\n",
    "import os\n",
    "from torch.utils.data import Dataset, DataLoader\n",
    "from torch.utils.data.sampler import Sampler\n",
    "import clip\n",
    "from PIL import Image\n",
    "from pathlib import Path\n",
    "from tqdm.auto import tqdm\n",
    "import re\n",
    "from clip.simple_tokenizer import SimpleTokenizer\n",
    "import faiss\n",
    "import matplotlib.pyplot as plt\n",
    "import random\n",
    "#threshold for classification\n",
    "thresh=0\n",
    "\n",
    "_tokenizer = SimpleTokenizer()\n",
    "\n",
    "# Copied from https://github.com/openai/CLIP/blob/beba48f35392a73c6c47ae67ddffced81ad1916d/clip/clip.py#L164\n",
    "# but with relaxed exception\n",
    "def tokenize(texts, context_length: int = 77) -> torch.LongTensor:\n",
    "    if isinstance(texts, str):\n",
    "        texts = [texts]\n",
    "\n",
    "    sot_token = _tokenizer.encoder[\"<|startoftext|>\"]\n",
    "    eot_token = _tokenizer.encoder[\"<|endoftext|>\"]\n",
    "    all_tokens = [[sot_token] + _tokenizer.encode(text) + [eot_token] for text in texts]\n",
    "    result = torch.zeros(len(all_tokens), context_length, dtype=torch.long)\n",
    "\n",
    "    for i, tokens in enumerate(all_tokens):\n",
    "        n = min(len(tokens), context_length)\n",
    "        result[i, :n] = torch.tensor(tokens)[:n]\n",
    "        if len(tokens) > context_length:\n",
    "            result[i, -1] = tokens[-1]\n",
    "\n",
    "    return result\n",
    "\n",
    "# Load CLIP\n",
    "device = \"cuda\" if torch.cuda.is_available() else \"cpu\"\n",
    "model, preprocess = clip.load(\"ViT-B/32\", device=device, jit=False)\n",
    "#label csv\n",
    "from sklearn.model_selection import train_test_split\n",
    "df_data = pd.read_csv('/home/hice1/mmoradi6/scratch/RCLIP/data/train.csv', index_col='id')\n",
    "df_labels=pd.read_csv('/home/hice1/mmoradi6/scratch/RCLIP/data/labels.csv',index_col=\"attribute_id\")\n",
    "image_dir=\"/home/hice1/mmoradi6/scratch/RCLIP/data/training_data/\"\n",
    "image_names=sorted(os.listdir(image_dir))[11000:21000]\n",
    "train_names, test_names, _, _ = train_test_split(image_names, image_names, test_size=0.1, random_state=42)\n",
    "text_list=[df_labels.iloc[idx].iloc[0].split(\"::\")[1] for idx in range(len(df_labels))] #all the text as list\n",
    "image_list=[preprocess(Image.open(image_dir+iii)).unsqueeze(0).to(device) for iii in test_names]\n",
    "text=tokenize(text_list).to(device)\n",
    "\n",
    "\n",
    "state_dir=\"/home/hice1/mmoradi6/scratch/RCLIP/models/\"\n",
    "states=sorted(os.listdir(state_dir))\n",
    "with torch.no_grad():\n",
    "    for i in states:\n",
    "        #for each model\n",
    "        TP=[]\n",
    "        TN=[]\n",
    "        FP=[]\n",
    "        FN=[]\n",
    "        state_path=state_dir+i\n",
    "        state_dict=torch.load(state_path, map_location=device)\n",
    "        model.load_state_dict(state_dict)\n",
    "        model.eval()\n",
    "        #get the probs\n",
    "        for img_idx in range(len(image_list)):\n",
    "            img=image_list[img_idx]\n",
    "            logits_per_image, _ = model(image_list[0], text)\n",
    "            probs = logits_per_image.softmax(dim=-1).detach().cpu().numpy()\n",
    "            probs[0][probs[0]<=thresh]=0\n",
    "            probs[0][probs[0]>thresh]=1\n",
    "            true_classes=np.zeros(1103)\n",
    "            label_idx=df_data.loc[test_names[img_idx][:-4]].iloc[0].split(\" \")\n",
    "            for lbl_idx in label_idx:\n",
    "                true_classes[int(lbl_idx)]=1\n",
    "            FP.append(np.sum((true_classes-probs)==-1))\n",
    "            FN.append(np.sum((true_classes-probs)==1))\n",
    "            TP.append(np.sum((true_classes*probs)==1))\n",
    "            TN.append(1103-FP[-1]-FN[-1]-TP[-1])\n",
    "        print(\"for model\",i)\n",
    "        print(\"TP:\",np.mean(TP))\n",
    "        print(\"TN:\",np.mean(TN))\n",
    "        print(\"FP:\",np.mean(FP))\n",
    "        print(\"FN:\",np.mean(FN))"
   ]
  },
  {
   "cell_type": "code",
   "execution_count": null,
   "id": "b1c5702e",
   "metadata": {},
   "outputs": [],
   "source": [
    "state_path=state_dir+\"25.0.pth\"\n",
    "state_dict=torch.load(state_path, map_location=device)\n",
    "model.load_state_dict(state_dict)\n",
    "model.eval()\n",
    "image_features = model.encode_image(image_list[0])\n",
    "text_features = model.encode_text(text)\n",
    "\n",
    "logits_per_image, logits_per_text = model(image_list[0], text)\n",
    "probs = logits_per_image.softmax(dim=-1).detach().cpu().numpy()\n",
    "print(\"Label probs:\", probs)  # prints: [[0.9927937  0.00421068 0.00299572]]"
   ]
  },
  {
   "cell_type": "code",
   "execution_count": 39,
   "id": "f2fb1cfd",
   "metadata": {},
   "outputs": [
    {
     "data": {
      "text/plain": [
       "['147', '616', '813']"
      ]
     },
     "execution_count": 39,
     "metadata": {},
     "output_type": "execute_result"
    }
   ],
   "source": [
    "df_data.loc[\"1000483014d91860\"].iloc[0].split(\" \")"
   ]
  },
  {
   "cell_type": "code",
   "execution_count": 51,
   "id": "2c4010bc",
   "metadata": {},
   "outputs": [
    {
     "data": {
      "text/plain": [
       "array([0., 0., 0., ..., 0., 0., 0.], dtype=float16)"
      ]
     },
     "execution_count": 51,
     "metadata": {},
     "output_type": "execute_result"
    }
   ],
   "source": [
    "probs[0]"
   ]
  },
  {
   "cell_type": "code",
   "execution_count": 45,
   "id": "45671ee4",
   "metadata": {},
   "outputs": [
    {
     "data": {
      "text/plain": [
       "array([ 1,  8, 15])"
      ]
     },
     "execution_count": 45,
     "metadata": {},
     "output_type": "execute_result"
    }
   ],
   "source": [
    "a*b"
   ]
  },
  {
   "cell_type": "code",
   "execution_count": null,
   "id": "ec31d9f5",
   "metadata": {},
   "outputs": [],
   "source": []
  }
 ],
 "metadata": {
  "kernelspec": {
   "display_name": "Python 3 (ipykernel)",
   "language": "python",
   "name": "python3"
  },
  "language_info": {
   "codemirror_mode": {
    "name": "ipython",
    "version": 3
   },
   "file_extension": ".py",
   "mimetype": "text/x-python",
   "name": "python",
   "nbconvert_exporter": "python",
   "pygments_lexer": "ipython3",
   "version": "3.10.13"
  }
 },
 "nbformat": 4,
 "nbformat_minor": 5
}
